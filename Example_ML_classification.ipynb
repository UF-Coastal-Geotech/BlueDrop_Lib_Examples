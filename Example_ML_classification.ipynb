{
 "cells": [
  {
   "cell_type": "code",
   "execution_count": null,
   "metadata": {},
   "outputs": [],
   "source": [
    "import numpy as np \n",
    "import pandas as pd\n",
    "import os\n",
    "import glob\n",
    "import fnmatch\n",
    "import matplotlib.pyplot as plt\n",
    "\n",
    "import plotly.express as px\n",
    "import plotly.graph_objects as go\n",
    "\n",
    "from plotly.subplots import make_subplots\n",
    "import plotly.graph_objects as go\n",
    "import ruptures as rpt\n"
   ]
  },
  {
   "cell_type": "code",
   "execution_count": null,
   "metadata": {},
   "outputs": [],
   "source": [
    "from lib.data_classes.pffpFolder import pffpDataFolder\n",
    "from lib.signal_processing.signal_function import moving_average, find_deriv_change, find_drops\n",
    "from lib.general_functions.global_constants import GRAVITY_CONST\n",
    "from lib.general_functions.helper_function import convert_time_units"
   ]
  },
  {
   "cell_type": "code",
   "execution_count": null,
   "metadata": {},
   "outputs": [],
   "source": [
    "# Testing the binary file classa\n",
    "#TODO: for some reason I need the full path to read the files, I'll need to look into this in the future\n",
    "# folder_dir = r\"C:\\Geotech_Research\\Field_Analysis\\BlueDrop_Analysis_Lib\\test\"\n",
    "# folder_dir = r\"C:\\Geotech_Research\\Field_Analysis\\BlueDrop_Analysis_Lib\\Mouth 1\" #pffp 3, sequim 2023\n",
    "# folder_dir = r\"/home/sandbiter/Documents/BlueDrop_Analysis_Lib/Potomac_to Jonathan\"\n",
    "# folder_dir = r\"/home/sandbiter/Documents/BlueDrop_Analysis_Lib/test_folder\"\n",
    "# folder_dir = r\"C:\\Geotech_Research\\Field_Analysis\\BlueDrop_Analysis_Lib\\Clay_Air_Drops_GBE_AdamsPoint\"\n",
    "# folder_dir = r\"/home/sandbiter/Documents/BlueDrop_Analysis_Lib/Mouth_1\"\n",
    "# folder_dir = r\"/home/sandbiter/Documents/BlueDrop_Analysis_Lib/Clay_Air_Drops_GBE_AdamsPoint\"\n",
    "folder_dir = r\"C:\\Geotech_Research\\Field_Analysis\\BlueDrop_Analysis_Lib\\stark_drops\"\n",
    "# folder_dir = r\"C:\\Geotech_Research\\Field_Analysis\\BlueDrop_Analysis_Lib\\Clay_air_drops\\Clay_Air\" #1, march 2023\n",
    "calibration_dir = r\"calibration_factors\\BlueDrop_Calibration_Factors.xlsx\""
   ]
  },
  {
   "cell_type": "code",
   "execution_count": null,
   "metadata": {},
   "outputs": [],
   "source": [
    "tip_dir = r\"C:\\Geotech_Research\\Field_Analysis\\BlueDrop_Analysis_Lib\\calibration_factors\\BluedDrop_Cone_Values.xlsx\"\n"
   ]
  },
  {
   "cell_type": "code",
   "execution_count": null,
   "metadata": {},
   "outputs": [],
   "source": [
    "# TODO: Combine the pffp_id and the read_calibration_excel_sheet just have the objet call inside\n",
    "name = \"test\"\n",
    "id = 9\n",
    "test_folder = pffpDataFolder(folder_dir, pffp_id = id, calibration_factor_dir=calibration_dir, survey_name = name)\n",
    "print(test_folder)"
   ]
  },
  {
   "cell_type": "code",
   "execution_count": null,
   "metadata": {},
   "outputs": [],
   "source": [
    "# Read the calibration data\n",
    "test_folder.read_calibration_excel_sheet()\n",
    "test_folder.calibration_excel_sheet\n",
    "\n",
    "# Select the specific calibration params\n",
    "if id == 3:\n",
    "    test_folder.get_sensor_calibration_params(\"Sequim_2021\")\n",
    "elif id == 1:\n",
    "    test_folder.get_sensor_calibration_params(\"March_2023\")\n",
    "elif id ==9:\n",
    "    test_folder.get_sensor_calibration_params(\"October_2023\")\n",
    "else:\n",
    "    raise ValueError(\"not a valid pffp id\")"
   ]
  },
  {
   "cell_type": "code",
   "execution_count": null,
   "metadata": {},
   "outputs": [],
   "source": [
    "# Init a pffpFile instances for each binary file and store the results in the folder\n",
    "test_folder.store_pffp_files(recursive = False)\n",
    "\n",
    "print(test_folder) # Information about the folder"
   ]
  },
  {
   "cell_type": "code",
   "execution_count": null,
   "metadata": {},
   "outputs": [],
   "source": [
    "# Analyze the selected pffp files\n",
    "test_folder.analyze_all_files(store_df=True, use_pore_pressure=True, \n",
    "                              select_accel=[\"2g_accel\", \"50g_accel\", \"250g_accel\"],\n",
    "                              debug = False)\n"
   ]
  },
  {
   "cell_type": "code",
   "execution_count": null,
   "metadata": {},
   "outputs": [],
   "source": [
    "print(test_folder)"
   ]
  },
  {
   "cell_type": "code",
   "execution_count": null,
   "metadata": {},
   "outputs": [],
   "source": [
    "test_folder.process_drop_files()"
   ]
  },
  {
   "cell_type": "code",
   "execution_count": null,
   "metadata": {},
   "outputs": [],
   "source": [
    "file = test_folder.pffp_drop_files[0]\n",
    "# file.manually_process_drops()\n",
    "print(file)"
   ]
  },
  {
   "cell_type": "markdown",
   "metadata": {},
   "source": [
    "#### Start Bearing Capcity Analysis"
   ]
  },
  {
   "cell_type": "code",
   "execution_count": null,
   "metadata": {},
   "outputs": [],
   "source": [
    "drop = file.drops[0]\n",
    "pffp_id = test_folder.pffp_id\n",
    "drop.get_pffp_tip_values(pffp_id=pffp_id, tip_type=\"cone\", date_string = \"April_2024\", file_dir = tip_dir)"
   ]
  },
  {
   "cell_type": "code",
   "execution_count": null,
   "metadata": {},
   "outputs": [],
   "source": [
    "print(drop)"
   ]
  },
  {
   "cell_type": "code",
   "execution_count": null,
   "metadata": {},
   "outputs": [],
   "source": [
    "file.quick_view(interactive=True)"
   ]
  },
  {
   "cell_type": "code",
   "execution_count": null,
   "metadata": {},
   "outputs": [],
   "source": [
    "drop.quick_view_impulse()"
   ]
  },
  {
   "cell_type": "code",
   "execution_count": null,
   "metadata": {},
   "outputs": [],
   "source": [
    "drop.quick_view_release()"
   ]
  },
  {
   "cell_type": "code",
   "execution_count": null,
   "metadata": {},
   "outputs": [],
   "source": [
    "drop.water_drop = True\n",
    "drop.convert_tip_vals()\n",
    "\n",
    "# for name in [\"projected\", \"mantle\"]:\n",
    "#     drop.calc_drop_contact_area(area_type = name)\n",
    "#     drop.calc_drop_dynamic_bearing()\n",
    "#     drop.calc_drop_qs_bearing(k_factor = 0.3)"
   ]
  },
  {
   "cell_type": "code",
   "execution_count": null,
   "metadata": {},
   "outputs": [],
   "source": [
    "drop.output_impulse_data(folder_dir = \"stark_drops\\processed_data\")\n",
    "drop.output_release_data(folder_dir = \"stark_drops\\processed_data\")\n",
    "# drop.output_bearing_data(df= self.folder_dir = \"stark_drops\\processed_data\")"
   ]
  },
  {
   "cell_type": "code",
   "execution_count": null,
   "metadata": {},
   "outputs": [],
   "source": [
    "from lib.machine_learning.randomForestClass import RandForest\n",
    "\n",
    "ML_model_dir = r\"lib\\machine_learning\\machine_learning_models\\rand_forest_prior_model.joblib\"\n",
    "rand_forest_model = RandForest(name=\"{} drop index:{}\".format(file.file_name, drop.file_drop_index), model_dir=ML_model_dir ) "
   ]
  },
  {
   "cell_type": "code",
   "execution_count": null,
   "metadata": {},
   "outputs": [],
   "source": [
    "drop.units"
   ]
  },
  {
   "cell_type": "code",
   "execution_count": null,
   "metadata": {},
   "outputs": [],
   "source": [
    "from lib.general_functions.helper_function import convert_accel_units, convert_length_units"
   ]
  },
  {
   "cell_type": "code",
   "execution_count": null,
   "metadata": {},
   "outputs": [],
   "source": [
    "accel_unit = drop.units[\"accel\"]\n",
    "displacement_unit = drop.units[\"displacement\"]\n",
    "max_displacement = drop.impulse_df[\"displacement\"].max()\n",
    "max_accel = drop.impulse_df[\"accel\"].max()\n",
    "\n",
    "max_accel = convert_accel_units(max_accel, accel_unit, \"g\")  # Convert to g's\n",
    "max_displacement = convert_length_units(max_displacement, displacement_unit, \"cm\") # Convert to centimeters\n",
    "\n",
    "output= rand_forest_model.predict_probability(accel_data=max_accel, max_displacement=max_displacement)[0]\n"
   ]
  },
  {
   "cell_type": "code",
   "execution_count": null,
   "metadata": {},
   "outputs": [],
   "source": [
    "rand_forest_model.plot_prediction(output, fig_size=[4,3], \n",
    "                                  title = \"{} drop index:{}\".format(\"file\", drop.file_drop_index), save = True, name = \"sediment_prediction\")"
   ]
  },
  {
   "cell_type": "code",
   "execution_count": null,
   "metadata": {},
   "outputs": [],
   "source": []
  },
  {
   "cell_type": "markdown",
   "metadata": {},
   "source": [
    "### Things that need to be done\n",
    " \n",
    "* Trim the top of the bearing data plot (doesn't make a lot of sense but sure)\n",
    "  \n",
    "* Create the a test database that has:\n",
    "  * base_data\n",
    "  * accel_data\n",
    "  \n",
    "* Add on the following tables\n",
    "  * bearing_capacity\n",
    "  \n",
    "* Add on the followinig tables\n",
    "  * bluedrop config\n",
    "  * bluedrop calibration data\n",
    "\n"
   ]
  },
  {
   "cell_type": "markdown",
   "metadata": {},
   "source": [
    "### Options for formattig data\n",
    "* Use a JSON for a quickoverview of the survey metadata\n",
    "* Use a csv format to store information about each of the drops"
   ]
  }
 ],
 "metadata": {
  "kernelspec": {
   "display_name": "PFFP_FieldWork",
   "language": "python",
   "name": "python3"
  },
  "language_info": {
   "codemirror_mode": {
    "name": "ipython",
    "version": 3
   },
   "file_extension": ".py",
   "mimetype": "text/x-python",
   "name": "python",
   "nbconvert_exporter": "python",
   "pygments_lexer": "ipython3",
   "version": "3.11.5"
  }
 },
 "nbformat": 4,
 "nbformat_minor": 2
}
